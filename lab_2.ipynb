{
 "cells": [
  {
   "cell_type": "markdown",
   "metadata": {},
   "source": [
    "# Лабораторна робота №2\n",
    "### \"Розв’язання систем лінійних алгебраїчних рівнянь\"\n",
    "### Самарука Владислав Володимировича\n",
    "\n",
    "\n",
    "## 1. Написати програму, яка розв’язує систему лінійних алгебраїчних рівнянь двома методами:\n",
    "\n",
    "#### 4) Методом квадратних коренів\n",
    "#### 7) Методом Зейделя\n",
    "\n",
    "## 2. Знайти визначник матриці своїм прямим методом. Знайти число обумовленості.\n",
    "\n"
   ]
  },
  {
   "cell_type": "markdown",
   "metadata": {},
   "source": [
    "# Завдання 1"
   ]
  },
  {
   "cell_type": "markdown",
   "metadata": {},
   "source": [
    "#### 4) Метод квадратних коренів"
   ]
  },
  {
   "cell_type": "code",
   "execution_count": 130,
   "metadata": {},
   "outputs": [],
   "source": [
    "import numpy as np\n",
    "\n",
    "A = np.array([\n",
    "    [1, 2, 3, 4, 5],\n",
    "    [6, 7, 8, 9, 10],\n",
    "    [2, 1, 3, 5, 4],\n",
    "    [8, 7, 6, 9, 10],\n",
    "    [9, 6, 7, 10, 9]\n",
    "])\n",
    "\n",
    "b = np.array([1, 2, 3, 4, 5])"
   ]
  },
  {
   "cell_type": "markdown",
   "metadata": {},
   "source": []
  },
  {
   "cell_type": "code",
   "execution_count": 131,
   "metadata": {},
   "outputs": [
    {
     "name": "stdout",
     "output_type": "stream",
     "text": [
      "False\n"
     ]
    }
   ],
   "source": [
    "def check_symetric(A) -> bool:\n",
    "    return np.allclose(A, A.T)\n",
    "\n",
    "print(check_symetric(A))"
   ]
  },
  {
   "cell_type": "code",
   "execution_count": 132,
   "metadata": {},
   "outputs": [
    {
     "name": "stdout",
     "output_type": "stream",
     "text": [
      "True\n"
     ]
    }
   ],
   "source": [
    "def check_singular(A) -> bool:\n",
    "    return np.linalg.det(A) != 0\n",
    "\n",
    "print(check_singular(A))"
   ]
  },
  {
   "cell_type": "markdown",
   "metadata": {},
   "source": [
    "##### A = S.T * D * S"
   ]
  },
  {
   "cell_type": "code",
   "execution_count": 133,
   "metadata": {},
   "outputs": [
    {
     "name": "stdout",
     "output_type": "stream",
     "text": [
      "S:\n",
      "[[1.         2.         3.         4.         5.        ]\n",
      " [0.         1.73205081 1.15470054 0.57735027 0.        ]\n",
      " [0.         0.         2.7080128  2.83110429 4.0620192 ]\n",
      " [0.         0.         0.         0.82572282 1.81659021]\n",
      " [0.         0.         0.         0.         1.67332005]]\n",
      "D:\n",
      "[[ 1.  0.  0.  0.  0.]\n",
      " [ 0.  1.  0.  0.  0.]\n",
      " [ 0.  0. -1.  0.  0.]\n",
      " [ 0.  0.  0.  1.  0.]\n",
      " [ 0.  0.  0.  0. -1.]]\n"
     ]
    }
   ],
   "source": [
    "def calculate_S_and_D(A):\n",
    "    S = np.zeros(A.shape)\n",
    "    D = np.zeros(A.shape)\n",
    "    D[0, 0] = np.sign(A[0, 0])\n",
    "    S[0, 0] = np.sqrt(np.abs(A[0, 0]))\n",
    "\n",
    "    for i in range(0, A.shape[0]):\n",
    "        for j in range(1, A.shape[1]):\n",
    "            if i == j:\n",
    "                suma = 0\n",
    "                for p in range(j):\n",
    "                    suma += S[p, j] ** 2 * D[p, p]\n",
    "                \n",
    "                D[j, j] = np.sign(A[j, j] - suma)\n",
    "                S[j, j] = np.sqrt(np.abs(A[j, j] - suma))\n",
    "\n",
    "            elif j > i:\n",
    "                suma = 0\n",
    "                for p in range(i):\n",
    "                    suma += S[p, i] * D[p, p] * S[p, j]\n",
    "                \n",
    "                S[i, j] = (A[i, j] - suma) / (S[i, i] * D[i, i])\n",
    "                    \n",
    "                \n",
    "    return S, D\n",
    "\n",
    "S, D = calculate_S_and_D(A)\n",
    "print(\"S:\")\n",
    "print(S)\n",
    "print(\"D:\")\n",
    "print(D)"
   ]
  },
  {
   "cell_type": "markdown",
   "metadata": {},
   "source": [
    "##### Розв’язок системи рiвнянь S.T * D * y = b та S * x = y."
   ]
  },
  {
   "cell_type": "code",
   "execution_count": 134,
   "metadata": {},
   "outputs": [
    {
     "name": "stdout",
     "output_type": "stream",
     "text": [
      "STD:\n",
      "[[ 1.          0.          0.          0.          0.        ]\n",
      " [ 2.          1.73205081  0.          0.          0.        ]\n",
      " [ 3.          1.15470054 -2.7080128   0.          0.        ]\n",
      " [ 4.          0.57735027 -2.83110429  0.82572282  0.        ]\n",
      " [ 5.          0.         -4.0620192   1.81659021 -1.67332005]]\n",
      "b:\n",
      "[1 2 3 4 5]\n",
      "y:\n",
      "[ 1.  0. -0.  0. -0.]\n"
     ]
    }
   ],
   "source": [
    "def solve_equation_in_reverse(A, b):\n",
    "    x = np.zeros(b.shape)\n",
    "    for i in range(A.shape[0] - 1, -1, -1):\n",
    "        suma = 0\n",
    "        for j in range(i + 1, A.shape[1]):\n",
    "            suma += A[i, j] * x[j]\n",
    "        x[i] = (b[i] - suma) / A[i, i]\n",
    "\n",
    "    return x\n",
    "\n",
    "def solve_equation_in_forward(A, b):\n",
    "    x = np.zeros(b.shape)\n",
    "    for i in range(A.shape[0]):\n",
    "        suma = 0\n",
    "        for j in range(i):\n",
    "            suma += A[i, j] * x[j]\n",
    "        x[i] = (b[i] - suma) / A[i, i]\n",
    "\n",
    "    return x\n",
    "\n",
    "STD = S.T @ D\n",
    "print(\"STD:\")\n",
    "print(STD)\n",
    "print(\"b:\")\n",
    "print(b)\n",
    "y = solve_equation_in_forward(STD, b)\n",
    "print(\"y:\")\n",
    "print(y)"
   ]
  },
  {
   "cell_type": "code",
   "execution_count": 135,
   "metadata": {},
   "outputs": [
    {
     "name": "stdout",
     "output_type": "stream",
     "text": [
      "x:\n",
      "[ 1.  0. -0.  0. -0.]\n"
     ]
    }
   ],
   "source": [
    "x = solve_equation_in_reverse(S, y)\n",
    "print(\"x:\")\n",
    "print(x)"
   ]
  },
  {
   "cell_type": "markdown",
   "metadata": {},
   "source": [
    "#### 7) Метод Зейделя"
   ]
  },
  {
   "cell_type": "code",
   "execution_count": 136,
   "metadata": {},
   "outputs": [],
   "source": [
    "A = np.array([\n",
    "    [12, 3, 5, 8, 9],\n",
    "    [3, 15, 7, 6, 4],\n",
    "    [5, 7, 20, 11, 14],\n",
    "    [8, 6, 11, 25, 10],\n",
    "    [9, 4, 14, 10, 30]\n",
    "])\n",
    "\n",
    "b = np.array([1, 2, 3, 4, 5])"
   ]
  },
  {
   "cell_type": "markdown",
   "metadata": {},
   "source": [
    "##### Перевірки умов збіжності:"
   ]
  },
  {
   "cell_type": "code",
   "execution_count": 137,
   "metadata": {},
   "outputs": [
    {
     "name": "stdout",
     "output_type": "stream",
     "text": [
      "Збігається\n"
     ]
    }
   ],
   "source": [
    "symetric = check_symetric(A)\n",
    "\n",
    "def calculate_minors_determinants(A):\n",
    "    minor_det = []\n",
    "    for i in range(A.shape[0]):\n",
    "        minor_det.append(np.linalg.det(A[:i + 1, :i + 1]))\n",
    "\n",
    "    return minor_det    \n",
    "\n",
    "minor_det = calculate_minors_determinants(A)\n",
    "if symetric and np.all(np.array(minor_det) > 0):\n",
    "    print(\"Збігається\")\n",
    "else:\n",
    "    print(\"Не збігається\")\n"
   ]
  },
  {
   "cell_type": "markdown",
   "metadata": {},
   "source": [
    "#### Вирішення"
   ]
  },
  {
   "cell_type": "code",
   "execution_count": 138,
   "metadata": {},
   "outputs": [
    {
     "name": "stdout",
     "output_type": "stream",
     "text": [
      "next_x: \n",
      "[0.08333333 0.11666667 0.08833333 0.06646667 0.06273333]\n",
      "x:\n",
      "[0. 0. 0. 0. 0.]\n",
      "norma:\n",
      "0.11666666666666667\n",
      "x:\n",
      "[0.08333333 0.11666667 0.08833333 0.06646667 0.06273333]\n",
      "norma:\n",
      "0.15733333333333333\n",
      "x:\n",
      "[-0.074       0.06359556  0.06577156  0.11438425  0.11156578]\n",
      "norma:\n",
      "0.04590087407407406\n",
      "x:\n",
      "[-0.11990087  0.05111554  0.02107739  0.13220018  0.14191868]\n",
      "norma:\n",
      "0.03069677892753997\n",
      "x:\n",
      "[-0.13280026  0.05933221 -0.00961939  0.13572141  0.15784436]\n",
      "norma:\n",
      "0.015479084300969004\n",
      "x:\n",
      "[-0.13635585  0.06871316 -0.02509847  0.1350483   0.16510819]\n",
      "norma:\n",
      "0.006497942359824427\n",
      "x:\n",
      "[-0.1372506   0.0744479  -0.03159641  0.13391184  0.16802317]\n"
     ]
    }
   ],
   "source": [
    "eps = 0.01\n",
    "\n",
    "def calculate_next_x(A, b, x) -> np.array:\n",
    "    next_x = np.zeros(x.shape)\n",
    "    for i in range(A.shape[0]):\n",
    "        sum1 = 0\n",
    "        for j in range(i):\n",
    "            sum1 += A[i, j]/A[i, i] * next_x[j]\n",
    "        sum2 = 0\n",
    "        for j in range(i + 1, A.shape[0]):\n",
    "            sum2 += A[i, j]/A[i, i] * x[j]\n",
    "        \n",
    "        next_x[i] = -sum1 - sum2 + b[i]/A[i, i]\n",
    "    \n",
    "    return next_x\n",
    "\n",
    "def calculate_norm(x, next_x) -> float:\n",
    "    return np.linalg.norm(x - next_x, ord=np.inf)\n",
    "\n",
    "def solve_equation(A, b, eps):\n",
    "    x = np.zeros(b.shape)\n",
    "    next_x = calculate_next_x(A, b, x)\n",
    "    print(\"next_x: \")\n",
    "    print(next_x)\n",
    "    while True:\n",
    "        print(\"x:\")\n",
    "        print(x)\n",
    "        print(\"norma:\")\n",
    "        print(calculate_norm(x, next_x))\n",
    "\n",
    "        if calculate_norm(x, next_x) < eps:\n",
    "            break\n",
    "\n",
    "        x = next_x\n",
    "        next_x = calculate_next_x(A, b, x)\n",
    "\n",
    "    return next_x\n",
    "\n",
    "x = solve_equation(A, b, eps)\n",
    "print(\"x:\")\n",
    "print(x)"
   ]
  },
  {
   "cell_type": "markdown",
   "metadata": {},
   "source": [
    "### Завдання 2\n"
   ]
  },
  {
   "cell_type": "markdown",
   "metadata": {},
   "source": [
    "##### Визначник матриці методом квадратних коренів:"
   ]
  },
  {
   "cell_type": "code",
   "execution_count": 139,
   "metadata": {},
   "outputs": [
    {
     "name": "stdout",
     "output_type": "stream",
     "text": [
      "det:\n",
      "742583.9999999998\n"
     ]
    }
   ],
   "source": [
    "def det(A):\n",
    "    S, D = calculate_S_and_D(A)\n",
    "    det = 1\n",
    "    for i in range(A.shape[0]):\n",
    "        det *= D[i, i] * S[i, i] ** 2\n",
    "\n",
    "    return det\n",
    "\n",
    "print(\"det:\")\n",
    "print(det(A))\n"
   ]
  },
  {
   "cell_type": "markdown",
   "metadata": {},
   "source": [
    "#### Число обумовленості"
   ]
  },
  {
   "cell_type": "code",
   "execution_count": 140,
   "metadata": {},
   "outputs": [
    {
     "name": "stdout",
     "output_type": "stream",
     "text": [
      "Обернена матриця:\n",
      "[[ 0.12443037 -0.00953427  0.01018067 -0.02963705 -0.03092983]\n",
      " [-0.00953427  0.08244051 -0.02729523 -0.00757759  0.00713185]\n",
      " [ 0.01018067 -0.02729523  0.09552993 -0.02439455 -0.03586396]\n",
      " [-0.02963705 -0.00757759 -0.02439455  0.06175598  0.00070026]\n",
      " [-0.03092983  0.00713185 -0.03586396  0.00070026  0.05816446]]\n",
      "Перша норма початкової матриці:\n",
      "67.0\n",
      "Друга норма початкової матриці:\n",
      "55.33292934090252\n",
      "Перша норма оберненої матриці:\n",
      "0.2047121941760124\n",
      "Друга норма оберненої матриці:\n",
      "0.1653839583893026\n",
      "condtion_number:\n",
      "13.71571700979283\n"
     ]
    }
   ],
   "source": [
    "def condtion_number(A):\n",
    "    return np.linalg.norm(A, ord=np.inf) * np.linalg.norm(np.linalg.inv(A), ord=np.inf)\n",
    "\n",
    "\n",
    "print(\"Обернена матриця:\")\n",
    "print(np.linalg.inv(A))\n",
    "\n",
    "print(\"Перша норма початкової матриці:\")\n",
    "print(np.linalg.norm(A, ord=1))\n",
    "\n",
    "print(\"Друга норма початкової матриці:\")\n",
    "print(np.linalg.norm(A, ord=2))\n",
    "\n",
    "print(\"Перша норма оберненої матриці:\")\n",
    "print(np.linalg.norm(np.linalg.inv(A), ord=1))\n",
    "\n",
    "print(\"Друга норма оберненої матриці:\")\n",
    "print(np.linalg.norm(np.linalg.inv(A), ord=2))\n",
    "\n",
    "print(\"condtion_number:\")\n",
    "print(condtion_number(A))\n"
   ]
  }
 ],
 "metadata": {
  "kernelspec": {
   "display_name": "Python 3",
   "language": "python",
   "name": "python3"
  },
  "language_info": {
   "codemirror_mode": {
    "name": "ipython",
    "version": 3
   },
   "file_extension": ".py",
   "mimetype": "text/x-python",
   "name": "python",
   "nbconvert_exporter": "python",
   "pygments_lexer": "ipython3",
   "version": "3.11.3"
  }
 },
 "nbformat": 4,
 "nbformat_minor": 2
}
